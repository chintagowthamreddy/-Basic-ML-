{
  "nbformat": 4,
  "nbformat_minor": 0,
  "metadata": {
    "colab": {
      "name": "\"Basic ML\".ipynb",
      "provenance": [],
      "authorship_tag": "ABX9TyMkQsD358vtV7/jVaD3/kfM",
      "include_colab_link": true
    },
    "kernelspec": {
      "name": "python3",
      "display_name": "Python 3"
    },
    "language_info": {
      "name": "python"
    }
  },
  "cells": [
    {
      "cell_type": "markdown",
      "metadata": {
        "id": "view-in-github",
        "colab_type": "text"
      },
      "source": [
        "<a href=\"https://colab.research.google.com/github/chintagowthamreddy/-Basic-ML-/blob/main/%22Basic_ML%22.ipynb\" target=\"_parent\"><img src=\"https://colab.research.google.com/assets/colab-badge.svg\" alt=\"Open In Colab\"/></a>"
      ]
    },
    {
      "cell_type": "markdown",
      "metadata": {
        "id": "h9nob1XfcSvV"
      },
      "source": [
        "# GIVEN YEAR IS LEAP YEAR OR NOT LEAP YEAR "
      ]
    },
    {
      "cell_type": "code",
      "metadata": {
        "colab": {
          "base_uri": "https://localhost:8080/"
        },
        "id": "0SoRizjbcvJc",
        "outputId": "e0fa722b-2c8d-4343-8484-fcdab249d4bf"
      },
      "source": [
        "n=int(input(\"enter year=\"))\n",
        "if (n%400==0)or(n%4==0 and n%100!=0):\n",
        "    print(\"leap year\")\n",
        "else:\n",
        "    print(\"not leap year\")"
      ],
      "execution_count": null,
      "outputs": [
        {
          "output_type": "stream",
          "text": [
            "enter year=2020\n",
            "leap year\n"
          ],
          "name": "stdout"
        }
      ]
    },
    {
      "cell_type": "markdown",
      "metadata": {
        "id": "ldy05iLIdAV7"
      },
      "source": [
        "# MAXIMUM OF THREE NUMBERS"
      ]
    },
    {
      "cell_type": "code",
      "metadata": {
        "colab": {
          "base_uri": "https://localhost:8080/"
        },
        "id": "n3p8QfuJdr5e",
        "outputId": "d8f4c326-dae2-4fc4-bb14-a53abba7943b"
      },
      "source": [
        "a=int(input(\"enter 1stnumber=\"))\n",
        "b=int(input(\"enter 2ndnumber=\"))\n",
        "c=int(input(\"enter 3rdnumber=\"))\n",
        "if a>=b and a>=c:\n",
        "    max=a\n",
        "elif b>=a and b>=c:\n",
        "    max=b\n",
        "else:\n",
        "    max=c\n",
        "print(\"greatest  number=\",max)"
      ],
      "execution_count": null,
      "outputs": [
        {
          "output_type": "stream",
          "text": [
            "enter 1stnumber=5\n",
            "enter 2ndnumber=6\n",
            "enter 3rdnumber=55\n",
            "greatest  number= 55\n"
          ],
          "name": "stdout"
        }
      ]
    },
    {
      "cell_type": "markdown",
      "metadata": {
        "id": "W3ZELY7_d3gu"
      },
      "source": [
        "# PALENDROME OR NOT A PALENDROME"
      ]
    },
    {
      "cell_type": "code",
      "metadata": {
        "colab": {
          "base_uri": "https://localhost:8080/"
        },
        "id": "pyvLaAu7fCDI",
        "outputId": "8be0989a-083f-4a60-cc2b-8e026386f64b"
      },
      "source": [
        "a=input('enter a=')\n",
        "b=a[::-1]\n",
        "if a==b:\n",
        "    print(\"palindrome\")\n",
        "else:\n",
        "    print(\"not palindrome\")"
      ],
      "execution_count": null,
      "outputs": [
        {
          "output_type": "stream",
          "text": [
            "enter a=apple\n",
            "not palindrome\n"
          ],
          "name": "stdout"
        }
      ]
    }
  ]
}